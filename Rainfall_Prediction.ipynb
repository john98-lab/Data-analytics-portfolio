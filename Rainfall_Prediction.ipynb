{
  "cells": [
    {
      "cell_type": "code",
      "execution_count": 1,
      "metadata": {
        "colab": {
          "base_uri": "https://localhost:8080/"
        },
        "id": "CweMP2LXv_FQ",
        "outputId": "bdc8f2e3-a9ca-4f3d-b46c-3a4a5cd9bcdc"
      },
      "outputs": [
        {
          "output_type": "stream",
          "name": "stdout",
          "text": [
            "Skipping, found downloaded files in \"./australia-weather\" (use force=True to force download)\n"
          ]
        }
      ],
      "source": [
        "# Imports\n",
        "!pip install opendatasets --upgrade --quiet\n",
        "import opendatasets as od\n",
        "import numpy as np\n",
        "import pandas as pd\n",
        "from sklearn.model_selection import train_test_split\n",
        "from sklearn.impute import SimpleImputer\n",
        "from sklearn.preprocessing import MinMaxScaler, OneHotEncoder\n",
        "\n",
        "# Download the dataset\n",
        "od.download('https://www.kaggle.com/datasets/mariatherese/australia-weather')\n",
        "raw_df=pd.read_csv('./australia-weather'+'/australia weather.csv')\n",
        "raw_df.dropna(subset = ['RainToday', 'RainTomorrow'], inplace = True)\n",
        "raw_df['RainTomorrow']=raw_df.RainTomorrow.map({'No':0,'Yes':1})"
      ]
    },
    {
      "cell_type": "code",
      "execution_count": 2,
      "metadata": {
        "id": "dTjJs-Za7rBe"
      },
      "outputs": [],
      "source": [
        "# Create Training, Validation and Test sets\n",
        "year = pd.to_datetime(raw_df.Date, dayfirst = True, format = 'mixed').dt.year\n",
        "train_df, val_df, test_df = raw_df [year<2015], raw_df[year == 2015], raw_df[year>2015]\n",
        "##train_val_df, test_df = train_test_split(raw_df, test_size  = 0.2, random_state = 42)\n",
        "##train_df, val_df = train_test_split(train_val_df, test_size = 0.25, random_state = 42)"
      ]
    },
    {
      "cell_type": "code",
      "execution_count": 3,
      "metadata": {
        "id": "nYAbX1s5_pGg"
      },
      "outputs": [],
      "source": [
        "# Identify Inputs and targets\n",
        "input_cols = list(raw_df.columns)[1:-1]\n",
        "target_col = 'RainTomorrow'\n",
        "train_inputs, train_targets = train_df[input_cols].copy(), train_df[target_col].copy()\n",
        "val_inputs, val_targets = val_df[input_cols].copy(), val_df[target_col].copy()\n",
        "test_inputs, test_targets = test_df[input_cols].copy(), test_df[target_col].copy()\n",
        "\n",
        "# Identify numeric and categorical columns\n",
        "numeric_cols = train_inputs.select_dtypes(include = np.number).columns.tolist()[:-1]\n",
        "categorical_cols = train_inputs.select_dtypes('object').columns.tolist()\n",
        "\n",
        "# Impute missing values\n",
        "imputer = SimpleImputer(strategy = 'mean').fit(raw_df[numeric_cols])\n",
        "train_inputs[numeric_cols]=imputer.transform(train_inputs[numeric_cols])\n",
        "val_inputs[numeric_cols]=imputer.transform(val_inputs[numeric_cols])\n",
        "test_inputs[numeric_cols]=imputer.transform(test_inputs[numeric_cols])\n",
        "\n",
        "# Scale numeric values\n",
        "scaler = MinMaxScaler().fit(raw_df[numeric_cols])\n",
        "train_inputs[numeric_cols] = scaler.transform(train_inputs[numeric_cols]).copy()\n",
        "val_inputs[numeric_cols] = scaler.transform(val_inputs[numeric_cols])\n",
        "test_inputs[numeric_cols] = scaler.transform(test_inputs[numeric_cols])\n",
        "\n",
        "# One-Hot encode categorical values\n",
        "encoder = OneHotEncoder(sparse_output = False, handle_unknown = 'ignore').fit(raw_df[categorical_cols])\n",
        "encoded_cols =list(encoder.get_feature_names_out(categorical_cols))\n",
        "##train_inputs[encoded_cols] = encoder.transform(train_inputs[categorical_cols])\n",
        "##val_inputs[encoded_cols] = encoder.transform(val_inputs[categorical_cols])\n",
        "##test_inputs[encoded_cols] = encoder.transform(test_inputs[categorical_cols])\n",
        "\n",
        "train_inputs = pd.concat([train_inputs[numeric_cols], pd.DataFrame(encoder.transform(train_inputs[categorical_cols]),columns =encoded_cols,index=train_inputs.index)], axis =1)\n",
        "val_inputs = pd.concat([val_inputs[numeric_cols], pd.DataFrame(encoder.transform(val_inputs [categorical_cols]),columns =encoded_cols,index=val_inputs.index)], axis =1)\n",
        "test_inputs = pd.concat([test_inputs[numeric_cols], pd.DataFrame(encoder.transform(test_inputs[categorical_cols]),columns =encoded_cols, index=test_inputs.index)], axis =1)\n",
        "\n",
        "# Save the data\n",
        "train_inputs.to_parquet('train_inputs.parquet')\n",
        "val_inputs.to_parquet('val_inputs.parquet')\n",
        "test_inputs.to_parquet('test_inputs.parquet')\n",
        "pd.DataFrame(train_targets).to_parquet('train_targets.parquet')\n",
        "pd.DataFrame(val_targets).to_parquet('val_targets.parquet')\n",
        "pd.DataFrame(test_targets).to_parquet('test_targets.parquet')\n",
        "\n",
        "#Load the data back\n",
        "train_inputs=pd.read_parquet('train_inputs.parquet')\n",
        "val_inputs=pd.read_parquet('val_inputs.parquet')\n",
        "test_inputs=pd.read_parquet('test_inputs.parquet')\n",
        "train_targets=pd.read_parquet('train_targets.parquet')[target_col]\n",
        "val_targets=pd.read_parquet('val_targets.parquet')[target_col]\n",
        "test_targets=pd.read_parquet('test_targets.parquet')[target_col]\n",
        "\n",
        "\n",
        "\n"
      ]
    },
    {
      "cell_type": "code",
      "execution_count": 29,
      "metadata": {
        "id": "zfsQjdz7B3M0",
        "colab": {
          "base_uri": "https://localhost:8080/",
          "height": 528
        },
        "outputId": "aca420d0-30df-4c21-8bb2-b2c48da78ab2"
      },
      "outputs": [
        {
          "output_type": "stream",
          "name": "stdout",
          "text": [
            "Accuracy: 89.35%\n"
          ]
        },
        {
          "output_type": "execute_result",
          "data": {
            "text/plain": [
              "(array([0, 0, 0, ..., 0, 0, 0]), 0.8934869575866433)"
            ]
          },
          "metadata": {},
          "execution_count": 29
        },
        {
          "output_type": "display_data",
          "data": {
            "text/plain": [
              "<Figure size 640x480 with 2 Axes>"
            ],
            "image/png": "[encoded data removed]"
          },
          "metadata": {}
        }
      ],
      "source": [
        "from xgboost import XGBClassifier\n",
        "from sklearn.metrics import confusion_matrix, accuracy_score\n",
        "import plotly.express as px\n",
        "import matplotlib.pyplot as plt\n",
        "import matplotlib\n",
        "import seaborn as sns\n",
        "%matplotlib inline\n",
        "import joblib\n",
        "\n",
        "\n",
        "# Identify inputs and targets for predictions\n",
        "##x_train = train_inputs[numeric_cols+encoded_cols]\n",
        "##x_val = val_inputs[numeric_cols+encoded_cols]\n",
        "##x__test = test_inputs[numeric_cols+encoded_cols]\n",
        "\n",
        "# Fit the model\n",
        "model = XGBClassifier()\n",
        "model.fit(train_inputs, train_targets)\n",
        "\n",
        "##Make predictions\n",
        "preds = model.predict(train_inputs)\n",
        "prob = model.predict_proba(train_inputs)\n",
        "\n",
        "# Evaluate the model\n",
        "accuracy = accuracy_score(train_targets, preds)\n",
        "\n",
        "# Helper function\n",
        "def predict_and_plot(inputs, targets, name = ''):\n",
        "  preds = model.predict(inputs)\n",
        "  accuracy = accuracy_score(targets, preds)\n",
        "  print('Accuracy: {:.2f}%'.format(accuracy*100))\n",
        "  cf=confusion_matrix(targets, preds, normalize='true')\n",
        "  plt.figure()\n",
        "  sns.heatmap(cf, annot=True)\n",
        "  plt.xlabel('Prediction')\n",
        "  plt.ylabel('Targets')\n",
        "  plt.title('{} Confusion Matrix'.format(name))\n",
        "  return preds, accuracy\n",
        "\n",
        "predict_and_plot(train_inputs,train_targets)\n",
        "\n"
      ]
    },
    {
      "cell_type": "code",
      "execution_count": 32,
      "metadata": {
        "id": "AVkPASjgqvbp"
      },
      "outputs": [],
      "source": [
        "# Make predictions on a single input\n",
        "def predict_input(single_input):\n",
        "  input_df =pd.DataFrame([single_input])\n",
        "  input_df[numeric_cols]=imputer.transform(input_df[numeric_cols])\n",
        "  input_df[numeric_cols]=scaler.transform(input_df[numeric_cols])\n",
        "  #input_df[encoded_cols]=scaler.transform(input_df[categorical_cols])\n",
        "  input_df = pd.concat([input_df[numeric_cols], pd.DataFrame(encoder.transform(input_df[categorical_cols]),columns =encoded_cols,index=input_df.index)], axis =1)\n",
        "  #x_input=input_df[numeric_cols+encoded_cols]\n",
        "  pred =model.predict(input_df)[0]\n",
        "  return pred\n",
        "\n",
        "new_input = {'Date': '2021-06-19',\n",
        "             'Location': 'Albury',\n",
        "             'MinTemp':-0.7,\n",
        "             'MaxTemp':50.2,\n",
        "             'Rainfall':10.2,\n",
        "             'Evaporation':4.2,\n",
        "             'Sunshine':np.nan,\n",
        "             'WindGustDir':'NNW',\n",
        "             'WindGustSpeed':52.0,\n",
        "             'WindDir9am':'NW',\n",
        "             'WindDir3pm':'NNE',\n",
        "             'WindSpeed9am':13.0,\n",
        "             'WindSpeed3pm':20.0,\n",
        "             'Humidity9am':89.0,\n",
        "             'Humidity3pm':58.0,\n",
        "             'Pressure9am':1004.8,\n",
        "             'Pressure3pm':1001.5,\n",
        "             'Cloud9am':8.0,\n",
        "             'Cloud3pm':5.0,\n",
        "             'Temp9am':25.7,\n",
        "             'Temp3am':33.0,\n",
        "             'RainToday':'No' }\n",
        "\n",
        "predict_input(new_input)\n",
        "\n",
        "\n",
        "# Save the model to joblib and load\n",
        "aussie_rain= {'model':model, 'imputer':imputer, 'scaler': scaler, 'encoder':encoder,\n",
        "              'input_cols':input_cols, 'target_col':target_col, 'numeric_cols':numeric_cols,\n",
        "              'categorical_cols':categorical_cols, 'encoded_cols':encoded_cols}\n",
        "joblib.dump(aussie_rain,'aussie_rain.joblib')\n",
        "aussie_rain2 = joblib.load('aussie_rain.joblib')"
      ]
    },
    {
      "cell_type": "code",
      "source": [
        "# In a new notebook\n",
        "aussie_rain2 =joblib.load('aussie_rain(1).joblib')\n",
        "\n",
        "model= aussie_rain2['model']\n",
        "imputer= aussie_rain2['imputer']\n",
        "scaler= aussie_rain2['scaler']\n",
        "encoder= aussie_rain2['encoder']\n",
        "numeric_cols= aussie_rain2['numeric_cols']\n",
        "categorical_cols= aussie_rain2['categorical_cols']\n",
        "encoded_cols= aussie_rain2['encoded_cols']"
      ],
      "metadata": {
        "id": "EyGSqET2Hgbf"
      },
      "execution_count": null,
      "outputs": []
    }
  ],
  "metadata": {
    "colab": {
      "provenance": []
    },
    "kernelspec": {
      "display_name": "Python 3",
      "name": "python3"
    },
    "language_info": {
      "name": "python"
    }
  },
  "nbformat": 4,
  "nbformat_minor": 0
}